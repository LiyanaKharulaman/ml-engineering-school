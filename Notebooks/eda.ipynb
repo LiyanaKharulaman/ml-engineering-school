{
 "cells": [
  {
   "cell_type": "markdown",
   "metadata": {},
   "source": [
    "### Setup"
   ]
  },
  {
   "cell_type": "code",
   "execution_count": null,
   "metadata": {},
   "outputs": [],
   "source": [
    "import sys\n",
    "\n",
    "sys.path.append(\"../\")"
   ]
  },
  {
   "cell_type": "code",
   "execution_count": null,
   "metadata": {},
   "outputs": [],
   "source": [
    "from lib.data_loading import read_data\n",
    "from lib.plots import (\n",
    "    plot_box_plot,\n",
    "    plot_categorical_counts,\n",
    "    plot_correlation_heatmap,\n",
    "    plot_numerical_distributions,\n",
    "    plot_scatter,\n",
    ")"
   ]
  },
  {
   "cell_type": "markdown",
   "metadata": {},
   "source": [
    "### Load Data"
   ]
  },
  {
   "cell_type": "code",
   "execution_count": null,
   "metadata": {},
   "outputs": [],
   "source": [
    "df = read_data(\"../dataset/pg15training.csv\")\n",
    "df.head()"
   ]
  },
  {
   "cell_type": "markdown",
   "metadata": {},
   "source": [
    "### EDA"
   ]
  },
  {
   "cell_type": "markdown",
   "metadata": {},
   "source": [
    "#### Info"
   ]
  },
  {
   "cell_type": "code",
   "execution_count": null,
   "metadata": {},
   "outputs": [],
   "source": [
    "print(\"Data Overview\")\n",
    "print(df.info())\n",
    "print(\"\\nSummary Statistics\")\n",
    "print(df.describe())"
   ]
  },
  {
   "cell_type": "markdown",
   "metadata": {},
   "source": [
    "#### Missing Values"
   ]
  },
  {
   "cell_type": "code",
   "execution_count": null,
   "metadata": {},
   "outputs": [],
   "source": [
    "print(\"\\nMissing Values\")\n",
    "print(df.isna().sum())"
   ]
  },
  {
   "cell_type": "code",
   "execution_count": null,
   "metadata": {},
   "outputs": [],
   "source": [
    "def most_common_dtype(column):\n",
    "    return column.apply(type).mode()[0]\n",
    "\n",
    "\n",
    "def remove_uncommon_datatype(df):\n",
    "    # Function to filter rows with inconsistent data types in the entire DataFrame\n",
    "    for column in df.columns:\n",
    "        common_dtype = most_common_dtype(df[column])\n",
    "        df = df[df[column].apply(lambda x: isinstance(x, common_dtype))]\n",
    "    return df\n",
    "\n",
    "\n",
    "df = remove_uncommon_datatype(df)\n",
    "df.head()"
   ]
  },
  {
   "cell_type": "markdown",
   "metadata": {},
   "source": [
    "#### Distribution of Numerical Features"
   ]
  },
  {
   "cell_type": "code",
   "execution_count": null,
   "metadata": {},
   "outputs": [],
   "source": [
    "numerical_distributions = plot_numerical_distributions(df, [\"Age\", \"Group1\", \"Bonus\"])\n",
    "for fig in numerical_distributions:\n",
    "    fig.show()"
   ]
  },
  {
   "cell_type": "markdown",
   "metadata": {},
   "source": [
    "### Count of Each Category for Categorical Features"
   ]
  },
  {
   "cell_type": "code",
   "execution_count": null,
   "metadata": {},
   "outputs": [],
   "source": [
    "categorical_counts = plot_categorical_counts(df, [\"Gender\", \"Type\", \"Category\"])\n",
    "for fig in categorical_counts:\n",
    "    fig.show()"
   ]
  },
  {
   "cell_type": "markdown",
   "metadata": {},
   "source": [
    "### Relationship between Age and Numtppd by Gender and Type"
   ]
  },
  {
   "cell_type": "code",
   "execution_count": null,
   "metadata": {},
   "outputs": [],
   "source": [
    "scatter_plot_age_numtppd = plot_scatter(df, \"Age\", \"Numtppd\", color=\"Gender\", symbol=\"Type\")\n",
    "scatter_plot_age_numtppd.show()"
   ]
  },
  {
   "cell_type": "markdown",
   "metadata": {},
   "source": [
    "### Average Numtppd by Group1"
   ]
  },
  {
   "cell_type": "code",
   "execution_count": null,
   "metadata": {},
   "outputs": [],
   "source": [
    "box_plot_groupe1_numtppd = plot_box_plot(df, \"Group1\", \"Numtppd\")\n",
    "box_plot_groupe1_numtppd.show()"
   ]
  },
  {
   "cell_type": "markdown",
   "metadata": {},
   "source": [
    "### Density Distribution by Occupation"
   ]
  },
  {
   "cell_type": "code",
   "execution_count": null,
   "metadata": {},
   "outputs": [],
   "source": [
    "box_plot_occupation_density = plot_box_plot(df, \"Occupation\", \"Density\")\n",
    "box_plot_occupation_density.show()"
   ]
  },
  {
   "cell_type": "markdown",
   "metadata": {},
   "source": [
    "### Correlation Heatmap for Numerical Features"
   ]
  },
  {
   "cell_type": "code",
   "execution_count": null,
   "metadata": {},
   "outputs": [],
   "source": [
    "heatmap = plot_correlation_heatmap(df, [\"Age\", \"Group1\", \"Bonus\", \"Poldur\", \"Value\", \"Adind\"])\n",
    "heatmap.show()"
   ]
  },
  {
   "cell_type": "markdown",
   "metadata": {},
   "source": [
    "### Relationship between Exposure Days and Number of TPPD by Group2"
   ]
  },
  {
   "cell_type": "code",
   "execution_count": null,
   "metadata": {},
   "outputs": [],
   "source": [
    "scatter_plot_exppdays_numtppd = plot_scatter(df, \"Exppdays\", \"Numtppd\", color=\"Group2\", size=\"Value\")\n",
    "scatter_plot_exppdays_numtppd.show()"
   ]
  }
 ],
 "metadata": {
  "kernelspec": {
   "display_name": "axa-mleng-school-original-ZM9I35rk-py3.10",
   "language": "python",
   "name": "python3"
  },
  "language_info": {
   "codemirror_mode": {
    "name": "ipython",
    "version": 3
   },
   "file_extension": ".py",
   "mimetype": "text/x-python",
   "name": "python",
   "nbconvert_exporter": "python",
   "pygments_lexer": "ipython3",
   "version": "3.10.13"
  }
 },
 "nbformat": 4,
 "nbformat_minor": 2
}
