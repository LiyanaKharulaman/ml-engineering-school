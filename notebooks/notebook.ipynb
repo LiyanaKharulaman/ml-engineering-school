{
 "cells": [
  {
   "cell_type": "code",
   "execution_count": null,
   "metadata": {},
   "outputs": [],
   "source": [
    "import pandas as pd\n",
    "import lightgbm as lgb\n",
    "from sklearn.model_selection import train_test_split"
   ]
  },
  {
   "cell_type": "code",
   "execution_count": null,
   "metadata": {},
   "outputs": [],
   "source": [
    "df = pd.read_csv(\"/Users/daniel.al-choboq/Documents/Code/Missions/axa/data/pg15training.csv\")\n",
    "df.head()"
   ]
  },
  {
   "cell_type": "code",
   "execution_count": null,
   "metadata": {},
   "outputs": [],
   "source": [
    "df[\"Numtppd\"].value_counts()"
   ]
  },
  {
   "cell_type": "code",
   "execution_count": null,
   "metadata": {},
   "outputs": [],
   "source": [
    "df['target'] = df['Numtppd'].apply(lambda x: 1 if x != 0 else 0)\n"
   ]
  },
  {
   "cell_type": "code",
   "execution_count": null,
   "metadata": {},
   "outputs": [],
   "source": [
    "df['target'].value_counts()"
   ]
  },
  {
   "cell_type": "code",
   "execution_count": null,
   "metadata": {},
   "outputs": [],
   "source": [
    "# Convert object columns to categorical\n",
    "categorical_columns = ['Gender', 'Type', 'Category', 'Occupation', 'SubGroup2', 'Group2']\n",
    "for col in categorical_columns:\n",
    "    df[col] = df[col].astype('category')\n",
    "\n",
    "# Use LightGBM instead of XGBoost\n",
    "# Add one hot encoder with pipeline scikit learn\n",
    "\n",
    "# Define features and target\n",
    "X = df.drop(columns=['Numtppd', 'Numtpbi', 'Indtppd', 'Indtpbi', 'target'])\n",
    "y = df['target']\n",
    "\n",
    "# Split the data into training and testing sets\n",
    "X_train, X_test, y_train, y_test = train_test_split(X, y, test_size=0.2, random_state=42)\n",
    "\n",
    "# Initialize the LightGBM model\n",
    "\n",
    "model = lgb.LGBMClassifier(objective='binary', n_estimators=100, learning_rate=0.1, max_depth=5)\n",
    "\n",
    "# Train the model\n",
    "model.fit(X_train, y_train, categorical_feature=categorical_columns)\n",
    "\n",
    "# Make predictions\n",
    "y_pred = model.predict(X_test)\n",
    " \n",
    "# Evaluate the model, add more metrics\n",
    "accuracy = (y_pred == y_test).mean()\n",
    "print(f\"Accuracy: {accuracy}\")"
   ]
  }
 ],
 "metadata": {
  "kernelspec": {
   "display_name": "venv",
   "language": "python",
   "name": "python3"
  },
  "language_info": {
   "codemirror_mode": {
    "name": "ipython",
    "version": 3
   },
   "file_extension": ".py",
   "mimetype": "text/x-python",
   "name": "python",
   "nbconvert_exporter": "python",
   "pygments_lexer": "ipython3",
   "version": "3.10.11"
  }
 },
 "nbformat": 4,
 "nbformat_minor": 2
}
